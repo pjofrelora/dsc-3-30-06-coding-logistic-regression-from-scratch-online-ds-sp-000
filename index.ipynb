{
 "cells": [
  {
   "cell_type": "markdown",
   "metadata": {},
   "source": [
    "# Coding Logistic Regression From Scratch - Lab\n",
    "\n",
    "## Introduction\n",
    "\n",
    "In this lab, you'll practice your ability to translate mathematical algorithms into python functions. This will deepen and solidify your understanding of the logistic regression!\n",
    "\n",
    "## Objectives\n",
    "\n",
    "You will be able to:\n",
    "* Understand and implement logistic regression"
   ]
  },
  {
   "cell_type": "markdown",
   "metadata": {},
   "source": [
    "## Overview\n",
    "\n",
    "Recall that the logistic regression algorithm take our previous intuition from logistic regression. In logistic regression, we start by taking our input data, X and multiplying it by a vector of weights for each of the individual features, which produces our output y. Afterwards we'll work on using an iterative approach via gradient descent to tune these weights."
   ]
  },
  {
   "cell_type": "markdown",
   "metadata": {},
   "source": [
    "## Linear Regression Setup\n",
    "\n",
    "Write a simple function `predict_y` that takes in a matrix `X` of observations and a vector of feature weights `w` and outputs a vector of predictions for the various observations.\n",
    "\n",
    "Recall that this is the sum of the product of each of the feature observations and their corresponding feature weights:  \n",
    "$ \\hat{y}_i = X_{i1} \\bullet w_1 + X_{i2} \\bullet w_2 + X_{i3} \\bullet w_3 + ... + X_{in} \\bullet w_n$\n",
    "\n",
    "Hint: think about which mathematical operation we previously discussed that will take a matrix (X) and multiply it by a vector of weights (w) to succinctly do this in a single operation."
   ]
  },
  {
   "cell_type": "code",
   "execution_count": 15,
   "metadata": {},
   "outputs": [],
   "source": [
    "import numpy as np"
   ]
  },
  {
   "cell_type": "code",
   "execution_count": 32,
   "metadata": {},
   "outputs": [],
   "source": [
    "#Your code here\n",
    "def predict_y(X, w):\n",
    "    return np.dot(X,w)"
   ]
  },
  {
   "cell_type": "markdown",
   "metadata": {},
   "source": [
    "## The Sigmoid Function\n",
    "\n",
    "Recall that the sigmoid function is used to map our previous linear regression model to a range of 0 to 1, satisfying basic premises of probability. As a reminder, the sigmoid function is defined by:  \n",
    "$\\frac{1}{1+e^(-x)}$  \n",
    "Write this as a python function where x is the input and the function outputs the result of the sigmoid function."
   ]
  },
  {
   "cell_type": "code",
   "execution_count": 13,
   "metadata": {},
   "outputs": [],
   "source": [
    "#Your code here\n",
    "def sigmoid(x):\n",
    "    x = np.array(x)\n",
    "    return 1/(1+np.exp(-x))"
   ]
  },
  {
   "cell_type": "markdown",
   "metadata": {},
   "source": [
    "## Graphing the Sigmoid\n",
    "\n",
    "For good measure, let's do a brief investigation of your new function. Graph the output of your sigmoid function using 10,000 X values evenly spaced from -20 to 20."
   ]
  },
  {
   "cell_type": "code",
   "execution_count": 10,
   "metadata": {},
   "outputs": [
    {
     "data": {
      "text/plain": [
       "[<matplotlib.lines.Line2D at 0x11e2517f0>]"
      ]
     },
     "execution_count": 10,
     "metadata": {},
     "output_type": "execute_result"
    },
    {
     "data": {
      "image/png": "[encoded data removed]",
      "text/plain": [
       "<Figure size 432x288 with 1 Axes>"
      ]
     },
     "metadata": {
      "needs_background": "light"
     },
     "output_type": "display_data"
    }
   ],
   "source": [
    "#Your code here\n",
    "X = np.linspace(-20,20,num=10000)\n",
    "y=[sigmoid(x) for x in X]\n",
    "import matplotlib.pyplot as plt\n",
    "plt.plot(X,y)"
   ]
  },
  {
   "cell_type": "markdown",
   "metadata": {},
   "source": [
    "## Gradient Descent with the Sigmoid Function\n",
    "\n",
    "Recall that gradient descent is a numerical method for finding a minimum to a cost function. In the case of logistic regression, we are looking to minimize the error between our model's predictions and the actual data labels. To do this, we first calculate an error vector based on the current model's feature weights. We then multiply the transpose of the training matrix itself by this error vector in order to obtain the gradient. Finally, we take the gradient, multiply it by our step size and add this to our current weight vector to update it. Below, write such a function. It will take 5 inputs:  \n",
    "* X\n",
    "* y\n",
    "* max_iterations\n",
    "* alpha (the step size)\n",
    "* initial_weights  \n",
    "By default, have your function set the initial_weights parameter to a vector where all feature weights are set to 1."
   ]
  },
  {
   "cell_type": "code",
   "execution_count": 18,
   "metadata": {},
   "outputs": [
    {
     "data": {
      "text/plain": [
       "array([[1, 2, 3],\n",
       "       [2, 3, 4],\n",
       "       [2, 3, 4]])"
      ]
     },
     "execution_count": 18,
     "metadata": {},
     "output_type": "execute_result"
    }
   ],
   "source": [
    "np.vstack((a,[2,3,4]))"
   ]
  },
  {
   "cell_type": "code",
   "execution_count": 43,
   "metadata": {},
   "outputs": [],
   "source": [
    "# Your code here\n",
    "def grad_desc(X, y, max_iterations, alpha, initial_weights=None):\n",
    "    \"\"\"Be sure to set default behavior for the initial_weights parameter.\"\"\"\n",
    "    if not initial_weights:\n",
    "        initial_weights = np.ones((X.shape[1],1)).flatten()\n",
    "    weights = initial_weights\n",
    "    weights_data = weights\n",
    "    for iteration in range(max_iterations):\n",
    "        y_pred = sigmoid(predict_y(X,weights))\n",
    "        error_vector = y_pred-y\n",
    "        gradient = np.dot(X.transpose(),error_vector) \n",
    "        weights -= gradient*alpha \n",
    "        weights_data = np.vstack((weights_data,weights))\n",
    "    weights_df = pd.DataFrame(weights_data)\n",
    "    return weights, weights_df"
   ]
  },
  {
   "cell_type": "code",
   "execution_count": null,
   "metadata": {},
   "outputs": [],
   "source": [
    "def grad_desc(X, y, max_iterations, alpha, initial_weights=None):\n",
    "    \"\"\"Be sure to set default behavior for the initial_weights parameter.\"\"\"\n",
    "    if initial_weights == None:\n",
    "        initial_weights = np.ones((X.shape[1],1)).flatten()\n",
    "    weights_col= pd.DataFrame(initial_weights)\n",
    "    weights = initial_weights\n",
    "    for iteration in range(max_iterations):\n",
    "        predictions = sigmoid(np.dot(X,weights))\n",
    "        error_vector = y - predictions\n",
    "        gradient = np.dot(X.transpose(),error_vector)\n",
    "        weights += alpha * gradient\n",
    "        weights_col = pd.concat([weights_col, pd.DataFrame(weights)], axis=1)\n",
    "    #Return finalized Weights\n",
    "    return weights, weights_col"
   ]
  },
  {
   "cell_type": "markdown",
   "metadata": {},
   "source": [
    "## Running Your Algorithm\n",
    "\n",
    "Now that we've coded everything from the ground up, we can further investigate the convergence behavior of our gradient descent algorithm. Remember that gradient descent does not gaurantee a global minimum, only a local minimum, and that small deviations in the starting point or step size can lead to different outputs.  \n",
    "  \n",
    "Let's begin by running our algorithm and plotting the successive weights of the features through iterations. Below is a dataset, with X and y predefined for you. Use your logistic regression function to find train a model. As the model trains, record the iteration cycle of the gradient descent algorithm and the weights of the various features. Then, plot this data on subplots for each of the individual features. Each graph should have the iteration number on the x-axis and the value of that feature weight for that iteration cycle on the y-axis. This will visually display how the algorithm is adjusting the weights over successive iterations, and hopefully show convergence on stable weights."
   ]
  },
  {
   "cell_type": "code",
   "execution_count": 12,
   "metadata": {
    "scrolled": true
   },
   "outputs": [
    {
     "name": "stdout",
     "output_type": "stream",
     "text": [
      "1.0    165\n",
      "0.0    138\n",
      "Name: target, dtype: int64\n"
     ]
    },
    {
     "data": {
      "text/html": [
       "<div>\n",
       "<style scoped>\n",
       "    .dataframe tbody tr th:only-of-type {\n",
       "        vertical-align: middle;\n",
       "    }\n",
       "\n",
       "    .dataframe tbody tr th {\n",
       "        vertical-align: top;\n",
       "    }\n",
       "\n",
       "    .dataframe thead th {\n",
       "        text-align: right;\n",
       "    }\n",
       "</style>\n",
       "<table border=\"1\" class=\"dataframe\">\n",
       "  <thead>\n",
       "    <tr style=\"text-align: right;\">\n",
       "      <th></th>\n",
       "      <th>age</th>\n",
       "      <th>sex</th>\n",
       "      <th>cp</th>\n",
       "      <th>trestbps</th>\n",
       "      <th>chol</th>\n",
       "      <th>fbs</th>\n",
       "      <th>restecg</th>\n",
       "      <th>thalach</th>\n",
       "      <th>exang</th>\n",
       "      <th>oldpeak</th>\n",
       "      <th>slope</th>\n",
       "      <th>ca</th>\n",
       "      <th>thal</th>\n",
       "    </tr>\n",
       "  </thead>\n",
       "  <tbody>\n",
       "    <tr>\n",
       "      <th>0</th>\n",
       "      <td>0.708333</td>\n",
       "      <td>1.0</td>\n",
       "      <td>1.000000</td>\n",
       "      <td>0.481132</td>\n",
       "      <td>0.244292</td>\n",
       "      <td>1.0</td>\n",
       "      <td>0.0</td>\n",
       "      <td>0.603053</td>\n",
       "      <td>0.0</td>\n",
       "      <td>0.370968</td>\n",
       "      <td>0.0</td>\n",
       "      <td>0.0</td>\n",
       "      <td>0.333333</td>\n",
       "    </tr>\n",
       "    <tr>\n",
       "      <th>1</th>\n",
       "      <td>0.166667</td>\n",
       "      <td>1.0</td>\n",
       "      <td>0.666667</td>\n",
       "      <td>0.339623</td>\n",
       "      <td>0.283105</td>\n",
       "      <td>0.0</td>\n",
       "      <td>0.5</td>\n",
       "      <td>0.885496</td>\n",
       "      <td>0.0</td>\n",
       "      <td>0.564516</td>\n",
       "      <td>0.0</td>\n",
       "      <td>0.0</td>\n",
       "      <td>0.666667</td>\n",
       "    </tr>\n",
       "    <tr>\n",
       "      <th>2</th>\n",
       "      <td>0.250000</td>\n",
       "      <td>0.0</td>\n",
       "      <td>0.333333</td>\n",
       "      <td>0.339623</td>\n",
       "      <td>0.178082</td>\n",
       "      <td>0.0</td>\n",
       "      <td>0.0</td>\n",
       "      <td>0.770992</td>\n",
       "      <td>0.0</td>\n",
       "      <td>0.225806</td>\n",
       "      <td>1.0</td>\n",
       "      <td>0.0</td>\n",
       "      <td>0.666667</td>\n",
       "    </tr>\n",
       "    <tr>\n",
       "      <th>3</th>\n",
       "      <td>0.562500</td>\n",
       "      <td>1.0</td>\n",
       "      <td>0.333333</td>\n",
       "      <td>0.245283</td>\n",
       "      <td>0.251142</td>\n",
       "      <td>0.0</td>\n",
       "      <td>0.5</td>\n",
       "      <td>0.816794</td>\n",
       "      <td>0.0</td>\n",
       "      <td>0.129032</td>\n",
       "      <td>1.0</td>\n",
       "      <td>0.0</td>\n",
       "      <td>0.666667</td>\n",
       "    </tr>\n",
       "    <tr>\n",
       "      <th>4</th>\n",
       "      <td>0.583333</td>\n",
       "      <td>0.0</td>\n",
       "      <td>0.000000</td>\n",
       "      <td>0.245283</td>\n",
       "      <td>0.520548</td>\n",
       "      <td>0.0</td>\n",
       "      <td>0.5</td>\n",
       "      <td>0.702290</td>\n",
       "      <td>1.0</td>\n",
       "      <td>0.096774</td>\n",
       "      <td>1.0</td>\n",
       "      <td>0.0</td>\n",
       "      <td>0.666667</td>\n",
       "    </tr>\n",
       "  </tbody>\n",
       "</table>\n",
       "</div>"
      ],
      "text/plain": [
       "        age  sex        cp  trestbps      chol  fbs  restecg   thalach  exang  \\\n",
       "0  0.708333  1.0  1.000000  0.481132  0.244292  1.0      0.0  0.603053    0.0   \n",
       "1  0.166667  1.0  0.666667  0.339623  0.283105  0.0      0.5  0.885496    0.0   \n",
       "2  0.250000  0.0  0.333333  0.339623  0.178082  0.0      0.0  0.770992    0.0   \n",
       "3  0.562500  1.0  0.333333  0.245283  0.251142  0.0      0.5  0.816794    0.0   \n",
       "4  0.583333  0.0  0.000000  0.245283  0.520548  0.0      0.5  0.702290    1.0   \n",
       "\n",
       "    oldpeak  slope   ca      thal  \n",
       "0  0.370968    0.0  0.0  0.333333  \n",
       "1  0.564516    0.0  0.0  0.666667  \n",
       "2  0.225806    1.0  0.0  0.666667  \n",
       "3  0.129032    1.0  0.0  0.666667  \n",
       "4  0.096774    1.0  0.0  0.666667  "
      ]
     },
     "execution_count": 12,
     "metadata": {},
     "output_type": "execute_result"
    }
   ],
   "source": [
    "import pandas as pd\n",
    "df = pd.read_csv('heart.csv')\n",
    "X = df[df.columns[:-1]]\n",
    "y = df.target\n",
    "print(y.value_counts())\n",
    "X.head()"
   ]
  },
  {
   "cell_type": "code",
   "execution_count": 44,
   "metadata": {
    "scrolled": true
   },
   "outputs": [
    {
     "data": {
      "text/html": [
       "<div>\n",
       "<style scoped>\n",
       "    .dataframe tbody tr th:only-of-type {\n",
       "        vertical-align: middle;\n",
       "    }\n",
       "\n",
       "    .dataframe tbody tr th {\n",
       "        vertical-align: top;\n",
       "    }\n",
       "\n",
       "    .dataframe thead th {\n",
       "        text-align: right;\n",
       "    }\n",
       "</style>\n",
       "<table border=\"1\" class=\"dataframe\">\n",
       "  <thead>\n",
       "    <tr style=\"text-align: right;\">\n",
       "      <th></th>\n",
       "      <th>age</th>\n",
       "      <th>sex</th>\n",
       "      <th>cp</th>\n",
       "      <th>trestbps</th>\n",
       "      <th>chol</th>\n",
       "      <th>fbs</th>\n",
       "      <th>restecg</th>\n",
       "      <th>thalach</th>\n",
       "      <th>exang</th>\n",
       "      <th>oldpeak</th>\n",
       "      <th>slope</th>\n",
       "      <th>ca</th>\n",
       "      <th>thal</th>\n",
       "    </tr>\n",
       "  </thead>\n",
       "  <tbody>\n",
       "    <tr>\n",
       "      <th>0</th>\n",
       "      <td>0.921824</td>\n",
       "      <td>0.886965</td>\n",
       "      <td>0.978665</td>\n",
       "      <td>0.948142</td>\n",
       "      <td>0.961222</td>\n",
       "      <td>0.978095</td>\n",
       "      <td>0.969541</td>\n",
       "      <td>0.929711</td>\n",
       "      <td>0.924392</td>\n",
       "      <td>0.965014</td>\n",
       "      <td>0.921124</td>\n",
       "      <td>0.959973</td>\n",
       "      <td>0.884694</td>\n",
       "    </tr>\n",
       "    <tr>\n",
       "      <th>1</th>\n",
       "      <td>0.921824</td>\n",
       "      <td>0.886965</td>\n",
       "      <td>0.978665</td>\n",
       "      <td>0.948142</td>\n",
       "      <td>0.961222</td>\n",
       "      <td>0.978095</td>\n",
       "      <td>0.969541</td>\n",
       "      <td>0.929711</td>\n",
       "      <td>0.924392</td>\n",
       "      <td>0.965014</td>\n",
       "      <td>0.921124</td>\n",
       "      <td>0.959973</td>\n",
       "      <td>0.884694</td>\n",
       "    </tr>\n",
       "    <tr>\n",
       "      <th>2</th>\n",
       "      <td>0.844091</td>\n",
       "      <td>0.774398</td>\n",
       "      <td>0.957571</td>\n",
       "      <td>0.896567</td>\n",
       "      <td>0.922681</td>\n",
       "      <td>0.956234</td>\n",
       "      <td>0.939287</td>\n",
       "      <td>0.859963</td>\n",
       "      <td>0.848973</td>\n",
       "      <td>0.930148</td>\n",
       "      <td>0.842862</td>\n",
       "      <td>0.920046</td>\n",
       "      <td>0.770039</td>\n",
       "    </tr>\n",
       "    <tr>\n",
       "      <th>3</th>\n",
       "      <td>0.766977</td>\n",
       "      <td>0.662523</td>\n",
       "      <td>0.936807</td>\n",
       "      <td>0.845390</td>\n",
       "      <td>0.884469</td>\n",
       "      <td>0.934437</td>\n",
       "      <td>0.909318</td>\n",
       "      <td>0.790966</td>\n",
       "      <td>0.773836</td>\n",
       "      <td>0.895453</td>\n",
       "      <td>0.765457</td>\n",
       "      <td>0.880263</td>\n",
       "      <td>0.656297</td>\n",
       "    </tr>\n",
       "    <tr>\n",
       "      <th>4</th>\n",
       "      <td>0.690725</td>\n",
       "      <td>0.551665</td>\n",
       "      <td>0.916498</td>\n",
       "      <td>0.794768</td>\n",
       "      <td>0.846715</td>\n",
       "      <td>0.912736</td>\n",
       "      <td>0.879747</td>\n",
       "      <td>0.723009</td>\n",
       "      <td>0.699118</td>\n",
       "      <td>0.861000</td>\n",
       "      <td>0.689245</td>\n",
       "      <td>0.840691</td>\n",
       "      <td>0.543836</td>\n",
       "    </tr>\n",
       "  </tbody>\n",
       "</table>\n",
       "</div>"
      ],
      "text/plain": [
       "        age       sex        cp  trestbps      chol       fbs   restecg  \\\n",
       "0  0.921824  0.886965  0.978665  0.948142  0.961222  0.978095  0.969541   \n",
       "1  0.921824  0.886965  0.978665  0.948142  0.961222  0.978095  0.969541   \n",
       "2  0.844091  0.774398  0.957571  0.896567  0.922681  0.956234  0.939287   \n",
       "3  0.766977  0.662523  0.936807  0.845390  0.884469  0.934437  0.909318   \n",
       "4  0.690725  0.551665  0.916498  0.794768  0.846715  0.912736  0.879747   \n",
       "\n",
       "    thalach     exang   oldpeak     slope        ca      thal  \n",
       "0  0.929711  0.924392  0.965014  0.921124  0.959973  0.884694  \n",
       "1  0.929711  0.924392  0.965014  0.921124  0.959973  0.884694  \n",
       "2  0.859963  0.848973  0.930148  0.842862  0.920046  0.770039  \n",
       "3  0.790966  0.773836  0.895453  0.765457  0.880263  0.656297  \n",
       "4  0.723009  0.699118  0.861000  0.689245  0.840691  0.543836  "
      ]
     },
     "execution_count": 44,
     "metadata": {},
     "output_type": "execute_result"
    }
   ],
   "source": [
    "w,df_w = grad_desc(X,y,10000,1e-3)\n",
    "df_w.columns = X.columns\n",
    "df_w.head()"
   ]
  },
  {
   "cell_type": "code",
   "execution_count": 51,
   "metadata": {},
   "outputs": [
    {
     "data": {
      "image/png": "[encoded data removed]",
      "text/plain": [
       "<Figure size 864x864 with 16 Axes>"
      ]
     },
     "metadata": {
      "needs_background": "light"
     },
     "output_type": "display_data"
    }
   ],
   "source": [
    "df_w.plot(subplots=True, layout=(4,4), figsize = (12,12));"
   ]
  },
  {
   "cell_type": "markdown",
   "metadata": {},
   "source": [
    "## sci-kit learn\n",
    "\n",
    "For comparison, import sci-kit learn's standard LogisticRegression function. Initialize a regression object with **no intercept** and with **C=1e16** or another very high number. The reason is as follows: our implementation has not used an intercept, and we have not performed any regularization such as Lasso or Ridge (sci-kit learn uses l2 by default). The high value of C will essentially negate this.\n",
    "\n",
    "After initializing a regression object, fit it to X and y."
   ]
  },
  {
   "cell_type": "code",
   "execution_count": 55,
   "metadata": {},
   "outputs": [],
   "source": [
    "# Your code here\n",
    "from sklearn.linear_model import LogisticRegression\n",
    "logit = LogisticRegression(C=1e16, solver = 'lbfgs', fit_intercept=False)\n",
    "model = logit.fit(X,y)"
   ]
  },
  {
   "cell_type": "markdown",
   "metadata": {},
   "source": [
    "## Compare the models\n",
    "\n",
    "Compare the coefficient weights of your model to that generated by sci-kit learn."
   ]
  },
  {
   "cell_type": "code",
   "execution_count": 60,
   "metadata": {},
   "outputs": [
    {
     "name": "stdout",
     "output_type": "stream",
     "text": [
      "SKLearns coefficients: [ 0.81188264 -1.61288881  2.61774505 -1.96817634 -1.50914614  0.05698714\n",
      "  1.1519504   4.42061571 -0.83028331 -2.74638306  1.45583595 -3.11560671\n",
      " -2.19118636]\n",
      "Homebrew coefficients: [ 0.7802778  -1.601665    2.61772008 -1.95194946 -1.39350985  0.05818755\n",
      "  1.15984037  4.36925075 -0.83136019 -2.75080939  1.45778904 -3.10796257\n",
      " -2.19158082]\n"
     ]
    }
   ],
   "source": [
    "# Your code here\n",
    "print('SKLearn''s coefficients: {}'.format(model.coef_[0]))\n",
    "print('Homebrew coefficients: {}'.format(w))"
   ]
  },
  {
   "cell_type": "markdown",
   "metadata": {},
   "source": [
    "## Level - Up\n",
    "\n",
    "Update the gradient descent algorithm to also return the prediction error after each iteration. Then rerun the algorithm and create a graph displaying the prediction errors versus the iteration number."
   ]
  },
  {
   "cell_type": "code",
   "execution_count": null,
   "metadata": {},
   "outputs": [],
   "source": [
    "# Your code here"
   ]
  },
  {
   "cell_type": "markdown",
   "metadata": {},
   "source": [
    "## Additional Resources\n",
    "\n",
    "If you want to see more of the mathematics behind the gradient derivation above, check out section 4.4.1 from the Elements of Statistical Learning which can be found here: https://web.stanford.edu/~hastie/ElemStatLearn//."
   ]
  },
  {
   "cell_type": "markdown",
   "metadata": {},
   "source": [
    "## Summary\n",
    "\n",
    "Congratulations! You just coded logistic regression from the ground up using NumPy! With this, you should have a fairly deep understanding of logistic regression and how the algorithm works! In the upcoming labs, we'll continue to explore this from a few more angles, plotting our data along with the decision boundary for our predictions."
   ]
  }
 ],
 "metadata": {
  "kernelspec": {
   "display_name": "Python 3",
   "language": "python",
   "name": "python3"
  },
  "language_info": {
   "codemirror_mode": {
    "name": "ipython",
    "version": 3
   },
   "file_extension": ".py",
   "mimetype": "text/x-python",
   "name": "python",
   "nbconvert_exporter": "python",
   "pygments_lexer": "ipython3",
   "version": "3.6.6"
  }
 },
 "nbformat": 4,
 "nbformat_minor": 2
}
